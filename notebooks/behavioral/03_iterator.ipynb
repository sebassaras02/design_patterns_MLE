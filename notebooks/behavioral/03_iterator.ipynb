{
 "cells": [
  {
   "cell_type": "markdown",
   "metadata": {},
   "source": [
    "# Behavioral Patterns\n",
    "\n",
    "The behavioral patterns are guidelines suggested to create classes that allows to communicate objects to each other. The goal of the behavioral patterns is to make those interactions easier and more understandable.\n",
    "\n",
    "The five creational patterns available are:\n",
    "1. Chain of Responsability\n",
    "2. Command\n",
    "3. Iterator\n",
    "4. Mediator\n",
    "5. Memento\n",
    "6. Observer\n",
    "7. State\n",
    "8. Strategy\n",
    "9. Template method\n",
    "10. Visitor\n",
    "\n",
    "Again, we are going to be convering eaach of the possible patterns and making some examples in the context of machine learning engineering."
   ]
  },
  {
   "cell_type": "markdown",
   "metadata": {},
   "source": [
    "# Iterator"
   ]
  },
  {
   "cell_type": "markdown",
   "metadata": {},
   "source": [
    "**What is a command?**\n",
    "\n",
    "This is a design pattern that encapsulates all the logic to access to a complex object. "
   ]
  },
  {
   "cell_type": "markdown",
   "metadata": {},
   "source": [
    "**When should we use it?**\n",
    "\n",
    "When you're dealing with complex data structures which need somehow an abstraction retrieve information easily. It reduces the overhead of accessing information from the object in the native way."
   ]
  },
  {
   "cell_type": "markdown",
   "metadata": {},
   "source": [
    "**Is this really useful in the context of Machine Learning Engineering**\n",
    "\n",
    "For most of the applications (I bet 99%), most of the frameworks already implement this idea behind. This, I will not explore further this design pattern."
   ]
  },
  {
   "cell_type": "markdown",
   "metadata": {},
   "source": [
    "However, for an interested reader can reach out more information here: https://refactoring.guru/design-patterns/iterator"
   ]
  }
 ],
 "metadata": {
  "language_info": {
   "name": "python"
  }
 },
 "nbformat": 4,
 "nbformat_minor": 2
}

{
 "cells": [
  {
   "cell_type": "markdown",
   "metadata": {},
   "source": [
    "# Structural Patterns\n",
    "\n",
    "The creational patterns are guidelines suggested to compose objects in a way that allows to perform new functionalities. Those new functionalities would be harder to do without the new class/function created.\n",
    "\n",
    "The structural patterns at the same time allows dealing with across entities relationships in an easier and managable way.\n",
    "\n",
    "In simple words: **How to compose complex objects**\n",
    "\n",
    "The seven structural patterns available are:\n",
    "1. Adapter\n",
    "2. Bridge\n",
    "3. Composite\n",
    "4. Decorator\n",
    "5. Facade\n",
    "6. Flyweight\n",
    "7. Proxy\n",
    "\n",
    "Each of those previous patterns are unique, and can be used in different situations and conditions."
   ]
  },
  {
   "cell_type": "markdown",
   "metadata": {},
   "source": [
    "# Composite"
   ]
  },
  {
   "cell_type": "markdown",
   "metadata": {},
   "source": [
    "**What is the composite?**\n",
    "\n",
    "This is a design pattern that uses an `Abstraction`, a `Leaf` and a `Composite`. The `Abstraction` class defines the methods of how the `Leaf` and `Composite` interacts. The `Leaf` is just a single element, while the `Composite` is a set of leafs, how they interact to each other.\n"
   ]
  },
  {
   "cell_type": "markdown",
   "metadata": {},
   "source": [
    "**Is this worth?**\n",
    "\n",
    "From my POV, this is the most useless design pattern for Machine Learning Engineers. It can be useful for other contexts such as frontend engineering, but in machine learning it adds a layer of overcomplexity."
   ]
  },
  {
   "cell_type": "markdown",
   "metadata": {},
   "source": [
    "**When should we use it?**\n",
    "\n",
    "This pattern is suitable when you want to deal with a single object or a set of objects in the same way. However, is this quite useful in machine learning? Well, I've bee thinking for almost a week where to apply this, but I failed.\n",
    "\n",
    "If in the future, I found something that is really worth, I will update this notebook."
   ]
  },
  {
   "cell_type": "markdown",
   "metadata": {},
   "source": [
    "If someone is interested to know more about this design pattern, you can take a look into this: https://refactoring.guru/design-patterns/composite"
   ]
  }
 ],
 "metadata": {
  "language_info": {
   "name": "python"
  }
 },
 "nbformat": 4,
 "nbformat_minor": 2
}
